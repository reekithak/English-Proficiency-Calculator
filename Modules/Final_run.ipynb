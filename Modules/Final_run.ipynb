{
 "cells": [
  {
   "cell_type": "markdown",
   "id": "2eb4123a",
   "metadata": {},
   "source": [
    "**Final Workflow**"
   ]
  },
  {
   "cell_type": "code",
   "execution_count": 8,
   "id": "538540b0",
   "metadata": {
    "ExecuteTime": {
     "end_time": "2021-05-26T15:14:51.891725Z",
     "start_time": "2021-05-26T15:14:51.882722Z"
    }
   },
   "outputs": [],
   "source": [
    "from generate import gpt2_generator"
   ]
  },
  {
   "cell_type": "code",
   "execution_count": 22,
   "id": "8dd38fcd",
   "metadata": {
    "ExecuteTime": {
     "end_time": "2021-05-26T15:27:03.951822Z",
     "start_time": "2021-05-26T15:27:03.935827Z"
    }
   },
   "outputs": [],
   "source": [
    "from counter import countdown\n",
    "import time\n",
    "from record import read_out"
   ]
  },
  {
   "cell_type": "code",
   "execution_count": 2,
   "id": "9ec036fe",
   "metadata": {
    "ExecuteTime": {
     "end_time": "2021-05-26T15:09:22.795421Z",
     "start_time": "2021-05-26T15:08:32.089952Z"
    }
   },
   "outputs": [
    {
     "name": "stderr",
     "output_type": "stream",
     "text": [
      "Setting `pad_token_id` to `eos_token_id`:50256 for open-end generation.\n"
     ]
    }
   ],
   "source": [
    "text_dict = gpt2_generator()"
   ]
  },
  {
   "cell_type": "code",
   "execution_count": 20,
   "id": "49fb2bda",
   "metadata": {
    "ExecuteTime": {
     "end_time": "2021-05-26T15:26:11.726412Z",
     "start_time": "2021-05-26T15:26:11.710446Z"
    }
   },
   "outputs": [
    {
     "name": "stdout",
     "output_type": "stream",
     "text": [
      "Read The Below Sentence after the timer goes off,ignore the complex/unwanted Characters(75 Seconds, For Now).\n",
      "                         \n"
     ]
    }
   ],
   "source": [
    "print(\"Read The Below Sentence after the timer goes off,ignore the complex/unwanted Characters(75 Seconds, For Now).\")\n",
    "print(\"                         \")"
   ]
  },
  {
   "cell_type": "code",
   "execution_count": 16,
   "id": "359e6d60",
   "metadata": {
    "ExecuteTime": {
     "end_time": "2021-05-26T15:20:10.497620Z",
     "start_time": "2021-05-26T15:20:00.401381Z"
    }
   },
   "outputs": [
    {
     "name": "stdout",
     "output_type": "stream",
     "text": [
      "Read it out!\n",
      "None\n"
     ]
    }
   ],
   "source": [
    "print(countdown(10))"
   ]
  },
  {
   "cell_type": "code",
   "execution_count": 17,
   "id": "f0b00148",
   "metadata": {
    "ExecuteTime": {
     "end_time": "2021-05-26T15:24:50.572193Z",
     "start_time": "2021-05-26T15:24:50.560195Z"
    }
   },
   "outputs": [
    {
     "name": "stdout",
     "output_type": "stream",
     "text": [
      "Everybody makes a few companions at various phases of life. A few companionships last more while some end in only a couple of months. The fundamental explanation for it is the presence of love. Indeed, even we ought to have a sentiment of affection for the needy and poor. They deserve our love the most. We should that is why show our love and affection to everybody irrespective of any differences among each other. If I was to pick up the phone to my neighbor's office and ask her how she had learned that she was in trouble, she would say, \"I don't know, Mrs. Maclean. Are you well?\" We ought to show our friendship, and show our love for the most needy, poor, and useless persons. We should be very fond of the sick, as they deserve our love. And let us look at their circumstances at the same time. In spite of any differences between us, I find that we are almost as happy together as apart at their present juncture\n"
     ]
    }
   ],
   "source": [
    "print(text_dict['to_read'])"
   ]
  },
  {
   "cell_type": "code",
   "execution_count": 23,
   "id": "5b04b961",
   "metadata": {
    "ExecuteTime": {
     "end_time": "2021-05-26T15:29:46.726231Z",
     "start_time": "2021-05-26T15:28:30.382540Z"
    }
   },
   "outputs": [
    {
     "name": "stdout",
     "output_type": "stream",
     "text": [
      "* recording\n",
      "* done recording\n"
     ]
    }
   ],
   "source": [
    "read_out() # changes to make - add reocord start stop button"
   ]
  },
  {
   "cell_type": "code",
   "execution_count": 37,
   "id": "034c61ed",
   "metadata": {
    "ExecuteTime": {
     "end_time": "2021-05-26T15:36:55.778827Z",
     "start_time": "2021-05-26T15:36:55.757818Z"
    }
   },
   "outputs": [],
   "source": [
    "from text_prep import to_text"
   ]
  },
  {
   "cell_type": "code",
   "execution_count": 38,
   "id": "9188ad92",
   "metadata": {
    "ExecuteTime": {
     "end_time": "2021-05-26T15:39:02.108351Z",
     "start_time": "2021-05-26T15:36:56.397277Z"
    }
   },
   "outputs": [
    {
     "name": "stdout",
     "output_type": "stream",
     "text": [
      "Text: everybody makes offer companions are the various phases of life a few companionship last more while some and in only a couple of months at the fundamental explanation for it is a presence of love in it even we go to have a sentiment of affection for the needy and for the design of the most we should that is why show 11 affection to everybody respect of any difference money each other if i was to pick up the phone to my neighbours office and asked her how should i learn that shows in trouble shoot i don't know message mat lena i well we or our friendship and show your love for the most needed for and useless person you should be very fond of the sick as it is a laugh and let us look the circumstances at the difference same time in spite of any differences between us i find that we are almost happy together as a part at the president junction\n"
     ]
    }
   ],
   "source": [
    "s = to_text(\"output.wav\",text_dict)"
   ]
  },
  {
   "cell_type": "code",
   "execution_count": 39,
   "id": "27680b1e",
   "metadata": {
    "ExecuteTime": {
     "end_time": "2021-05-26T15:39:02.124358Z",
     "start_time": "2021-05-26T15:39:02.113391Z"
    }
   },
   "outputs": [
    {
     "data": {
      "text/plain": [
       "\"everybody makes offer companions are the various phases of life a few companionship last more while some and in only a couple of months at the fundamental explanation for it is a presence of love in it even we go to have a sentiment of affection for the needy and for the design of the most we should that is why show 11 affection to everybody respect of any difference money each other if i was to pick up the phone to my neighbours office and asked her how should i learn that shows in trouble shoot i don't know message mat lena i well we or our friendship and show your love for the most needed for and useless person you should be very fond of the sick as it is a laugh and let us look the circumstances at the difference same time in spite of any differences between us i find that we are almost happy together as a part at the president junction\""
      ]
     },
     "execution_count": 39,
     "metadata": {},
     "output_type": "execute_result"
    }
   ],
   "source": [
    "s"
   ]
  },
  {
   "cell_type": "code",
   "execution_count": 40,
   "id": "3adb154a",
   "metadata": {
    "ExecuteTime": {
     "end_time": "2021-05-26T16:43:36.107555Z",
     "start_time": "2021-05-26T16:43:36.095554Z"
    }
   },
   "outputs": [],
   "source": [
    "from data_prepare import outside_fn"
   ]
  },
  {
   "cell_type": "code",
   "execution_count": 41,
   "id": "8b07f6be",
   "metadata": {
    "ExecuteTime": {
     "end_time": "2021-05-26T16:43:47.384165Z",
     "start_time": "2021-05-26T16:43:45.018904Z"
    }
   },
   "outputs": [],
   "source": [
    "outside_fn()"
   ]
  },
  {
   "cell_type": "code",
   "execution_count": 42,
   "id": "1dbd97d1",
   "metadata": {
    "ExecuteTime": {
     "end_time": "2021-05-26T16:44:56.879164Z",
     "start_time": "2021-05-26T16:44:56.867163Z"
    }
   },
   "outputs": [
    {
     "name": "stdout",
     "output_type": "stream",
     "text": [
      "Machine Learning Model Analysing Begins\n"
     ]
    }
   ],
   "source": [
    "print(\"Machine Learning Model Analysing Begins\")"
   ]
  },
  {
   "cell_type": "code",
   "execution_count": 67,
   "id": "aa2ba340",
   "metadata": {
    "ExecuteTime": {
     "end_time": "2021-05-26T16:57:03.938805Z",
     "start_time": "2021-05-26T16:57:03.851691Z"
    }
   },
   "outputs": [],
   "source": [
    "from ml_module1 import predict"
   ]
  },
  {
   "cell_type": "code",
   "execution_count": 71,
   "id": "a15edc82",
   "metadata": {
    "ExecuteTime": {
     "end_time": "2021-05-26T17:05:10.672597Z",
     "start_time": "2021-05-26T17:05:10.653595Z"
    }
   },
   "outputs": [],
   "source": [
    "model_path = r'.\\Models\\GoogleNews-vectors-negative300.bin'"
   ]
  },
  {
   "cell_type": "code",
   "execution_count": 69,
   "id": "4eb539de",
   "metadata": {
    "ExecuteTime": {
     "end_time": "2021-05-26T16:58:48.051494Z",
     "start_time": "2021-05-26T16:57:07.232490Z"
    }
   },
   "outputs": [
    {
     "name": "stdout",
     "output_type": "stream",
     "text": [
      "Started Execution\n",
      "Model Loaded, Basic Evaluaiton Complete\n",
      "Calculating Approximate score\n"
     ]
    }
   ],
   "source": [
    "prediction = predict(text_dict['to_check'],[s],model_path)"
   ]
  },
  {
   "cell_type": "code",
   "execution_count": 72,
   "id": "2f0a0a00",
   "metadata": {
    "ExecuteTime": {
     "end_time": "2021-05-26T17:05:45.056740Z",
     "start_time": "2021-05-26T17:05:45.042731Z"
    }
   },
   "outputs": [
    {
     "data": {
      "text/plain": [
       "{'Score ': 0.8884948757222275, 'document_similar': True}"
      ]
     },
     "execution_count": 72,
     "metadata": {},
     "output_type": "execute_result"
    }
   ],
   "source": [
    "prediction\n"
   ]
  },
  {
   "cell_type": "code",
   "execution_count": null,
   "id": "97c35ce4",
   "metadata": {},
   "outputs": [],
   "source": []
  }
 ],
 "metadata": {
  "kernelspec": {
   "display_name": "Python 3",
   "language": "python",
   "name": "python3"
  },
  "language_info": {
   "codemirror_mode": {
    "name": "ipython",
    "version": 3
   },
   "file_extension": ".py",
   "mimetype": "text/x-python",
   "name": "python",
   "nbconvert_exporter": "python",
   "pygments_lexer": "ipython3",
   "version": "3.7.0"
  }
 },
 "nbformat": 4,
 "nbformat_minor": 5
}
