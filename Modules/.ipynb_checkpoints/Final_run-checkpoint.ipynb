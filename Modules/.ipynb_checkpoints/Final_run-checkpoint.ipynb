{
 "cells": [
  {
   "cell_type": "markdown",
   "id": "2eb4123a",
   "metadata": {},
   "source": [
    "**Final Workflow**"
   ]
  },
  {
   "cell_type": "code",
   "execution_count": 1,
   "id": "538540b0",
   "metadata": {
    "ExecuteTime": {
     "end_time": "2021-05-26T17:24:10.403816Z",
     "start_time": "2021-05-26T17:24:10.381854Z"
    }
   },
   "outputs": [],
   "source": [
    "from generate import gpt2_generator"
   ]
  },
  {
   "cell_type": "code",
   "execution_count": 3,
   "id": "8dd38fcd",
   "metadata": {
    "ExecuteTime": {
     "end_time": "2021-05-26T17:24:23.150566Z",
     "start_time": "2021-05-26T17:24:23.107524Z"
    }
   },
   "outputs": [],
   "source": [
    "from Counter import countdown\n",
    "import time\n",
    "from record import read_out"
   ]
  },
  {
   "cell_type": "code",
   "execution_count": 4,
   "id": "9ec036fe",
   "metadata": {
    "ExecuteTime": {
     "end_time": "2021-05-26T17:25:28.996949Z",
     "start_time": "2021-05-26T17:24:24.953870Z"
    }
   },
   "outputs": [
    {
     "name": "stderr",
     "output_type": "stream",
     "text": [
      "Setting `pad_token_id` to `eos_token_id`:50256 for open-end generation.\n"
     ]
    }
   ],
   "source": [
    "text_dict = gpt2_generator()"
   ]
  },
  {
   "cell_type": "code",
   "execution_count": 5,
   "id": "49fb2bda",
   "metadata": {
    "ExecuteTime": {
     "end_time": "2021-05-26T17:25:29.012959Z",
     "start_time": "2021-05-26T17:25:28.997954Z"
    }
   },
   "outputs": [
    {
     "name": "stdout",
     "output_type": "stream",
     "text": [
      "Read The Below Sentence after the timer goes off,ignore the complex/unwanted Characters(75 Seconds, For Now).\n",
      "                         \n"
     ]
    }
   ],
   "source": [
    "print(\"Read The Below Sentence after the timer goes off,ignore the complex/unwanted Characters(75 Seconds, For Now).\")\n",
    "print(\"                         \")"
   ]
  },
  {
   "cell_type": "code",
   "execution_count": 6,
   "id": "359e6d60",
   "metadata": {
    "ExecuteTime": {
     "end_time": "2021-05-26T17:26:01.495271Z",
     "start_time": "2021-05-26T17:25:51.434726Z"
    }
   },
   "outputs": [
    {
     "name": "stdout",
     "output_type": "stream",
     "text": [
      "Read it out!\n",
      "None\n"
     ]
    }
   ],
   "source": [
    "print(countdown(10))"
   ]
  },
  {
   "cell_type": "code",
   "execution_count": 7,
   "id": "f0b00148",
   "metadata": {
    "ExecuteTime": {
     "end_time": "2021-05-26T17:26:01.511226Z",
     "start_time": "2021-05-26T17:26:01.498229Z"
    }
   },
   "outputs": [
    {
     "name": "stdout",
     "output_type": "stream",
     "text": [
      "We should love every creation of God, regardless of whether a plant or a creature. We should treat them with affection, and attempt to secure them, however much as it is possible to do. Likewise, cherishing nature incorporates keeping the air and water clean, planting numerous trees, taking care of the variety of animals, treating harmed creatures or helpless humans, and so on. Our acts of love will include a touch of paradise the earth will not have, a new beginning, a world in which we can breathe freely, have a normal relationship with God, and perhaps never know who we are.\n",
      "\n",
      "For we shall make the world of heaven and earth just the way the Word of God envisioned it will be in every generation. We shall have good relations with all living things, all living things which were made by hands upon earth, all animals, both domestic animals, birds, reptiles, plants, flowers, beasts, trees, fishes, etc. and every thing in the living universe. We shall\n"
     ]
    }
   ],
   "source": [
    "print(text_dict['to_read'])"
   ]
  },
  {
   "cell_type": "code",
   "execution_count": 8,
   "id": "5b04b961",
   "metadata": {
    "ExecuteTime": {
     "end_time": "2021-05-26T17:27:20.035491Z",
     "start_time": "2021-05-26T17:26:04.305121Z"
    }
   },
   "outputs": [
    {
     "name": "stdout",
     "output_type": "stream",
     "text": [
      "* The Recording has begun\n",
      "* Recording Stopped\n"
     ]
    }
   ],
   "source": [
    "read_out() # changes to make - add reocord start stop button"
   ]
  },
  {
   "cell_type": "code",
   "execution_count": 9,
   "id": "034c61ed",
   "metadata": {
    "ExecuteTime": {
     "end_time": "2021-05-26T17:27:26.020946Z",
     "start_time": "2021-05-26T17:27:25.970811Z"
    }
   },
   "outputs": [],
   "source": [
    "from text_prep import to_text"
   ]
  },
  {
   "cell_type": "code",
   "execution_count": 10,
   "id": "9188ad92",
   "metadata": {
    "ExecuteTime": {
     "end_time": "2021-05-26T17:27:40.296996Z",
     "start_time": "2021-05-26T17:27:27.648921Z"
    }
   },
   "outputs": [
    {
     "name": "stdout",
     "output_type": "stream",
     "text": [
      "Text: we should love every creation of god akil shankar shankar shankar regardless of whether a plant or a creature we should treat them with affection and attempt to secure them however much as it is possible to do likewise chat signature incorporate keeping the air and water clean planting numerous trees taking care of variety of animals treating harm features of helpless human hands on racks of love include a touch of paradise the earth will not have a new beginning the world in which you can breathe freely have a normal relationship with god and perhaps never know who we are for all vishal make the world of heaven and earth just the way and word of god envisioned it will be in every generation we shall have good relations with all living things non living things which were made by hands upon earth all animals both domestic animals birds reptiles plant flowers these trees fishes acceptor and everything in the living universe vishal\n",
      "Successfully Analysed\n"
     ]
    }
   ],
   "source": [
    "s = to_text(\"output.wav\",text_dict)"
   ]
  },
  {
   "cell_type": "code",
   "execution_count": 12,
   "id": "3adb154a",
   "metadata": {
    "ExecuteTime": {
     "end_time": "2021-05-26T17:28:16.823354Z",
     "start_time": "2021-05-26T17:28:16.793340Z"
    }
   },
   "outputs": [],
   "source": [
    "from data_prepare import outside_fn"
   ]
  },
  {
   "cell_type": "code",
   "execution_count": 13,
   "id": "8b07f6be",
   "metadata": {
    "ExecuteTime": {
     "end_time": "2021-05-26T17:28:25.664083Z",
     "start_time": "2021-05-26T17:28:19.001352Z"
    }
   },
   "outputs": [
    {
     "name": "stdout",
     "output_type": "stream",
     "text": [
      "Succcessfully Created the Spectrogram Copy\n"
     ]
    }
   ],
   "source": [
    "outside_fn()"
   ]
  },
  {
   "cell_type": "code",
   "execution_count": 14,
   "id": "1dbd97d1",
   "metadata": {
    "ExecuteTime": {
     "end_time": "2021-05-26T17:28:31.731646Z",
     "start_time": "2021-05-26T17:28:31.722648Z"
    }
   },
   "outputs": [
    {
     "name": "stdout",
     "output_type": "stream",
     "text": [
      "Machine Learning Model Analysing Begins\n"
     ]
    }
   ],
   "source": [
    "print(\"Machine Learning Model Analysing Begins\")"
   ]
  },
  {
   "cell_type": "code",
   "execution_count": 15,
   "id": "aa2ba340",
   "metadata": {
    "ExecuteTime": {
     "end_time": "2021-05-26T17:28:32.691316Z",
     "start_time": "2021-05-26T17:28:32.657269Z"
    }
   },
   "outputs": [],
   "source": [
    "from ml_module1 import predict"
   ]
  },
  {
   "cell_type": "code",
   "execution_count": 24,
   "id": "a15edc82",
   "metadata": {
    "ExecuteTime": {
     "end_time": "2021-05-26T17:30:25.903632Z",
     "start_time": "2021-05-26T17:30:25.890633Z"
    }
   },
   "outputs": [],
   "source": [
    "model_path = r'Models\\GoogleNews-vectors-negative300.bin'"
   ]
  },
  {
   "cell_type": "code",
   "execution_count": 25,
   "id": "4eb539de",
   "metadata": {
    "ExecuteTime": {
     "end_time": "2021-05-26T17:32:04.934220Z",
     "start_time": "2021-05-26T17:30:26.432641Z"
    }
   },
   "outputs": [
    {
     "name": "stdout",
     "output_type": "stream",
     "text": [
      "Started Execution\n",
      "Model Loaded, Basic Evaluaiton Complete\n",
      "Calculating Approximate score\n"
     ]
    }
   ],
   "source": [
    "prediction = predict(text_dict['to_check'],[s],model_path)"
   ]
  },
  {
   "cell_type": "code",
   "execution_count": 27,
   "id": "97c35ce4",
   "metadata": {
    "ExecuteTime": {
     "end_time": "2021-05-26T17:42:27.754031Z",
     "start_time": "2021-05-26T17:42:27.732065Z"
    }
   },
   "outputs": [
    {
     "data": {
      "text/plain": [
       "0.9386005515129288"
      ]
     },
     "execution_count": 27,
     "metadata": {},
     "output_type": "execute_result"
    }
   ],
   "source": [
    "score_1 = prediction['Score '"
   ]
  },
  {
   "cell_type": "code",
   "execution_count": 30,
   "id": "c1ce91fd",
   "metadata": {
    "ExecuteTime": {
     "end_time": "2021-05-26T17:44:29.170527Z",
     "start_time": "2021-05-26T17:44:29.047757Z"
    }
   },
   "outputs": [],
   "source": [
    "import tensorflow.keras\n",
    "from PIL import Image, ImageOps\n",
    "import numpy as np\n",
    "from tensorflow.keras.preprocessing.image import load_img"
   ]
  },
  {
   "cell_type": "code",
   "execution_count": 31,
   "id": "41383d2f",
   "metadata": {
    "ExecuteTime": {
     "end_time": "2021-05-26T17:44:29.761501Z",
     "start_time": "2021-05-26T17:44:29.728392Z"
    }
   },
   "outputs": [],
   "source": [
    "image = Image.open(\"output.jpg\")"
   ]
  },
  {
   "cell_type": "code",
   "execution_count": 45,
   "id": "03d9b6ae",
   "metadata": {
    "ExecuteTime": {
     "end_time": "2021-05-26T17:49:41.352290Z",
     "start_time": "2021-05-26T17:49:41.325288Z"
    }
   },
   "outputs": [],
   "source": [
    "from ml_im_1 import predict_2"
   ]
  },
  {
   "cell_type": "code",
   "execution_count": 46,
   "id": "5bed7caa",
   "metadata": {
    "ExecuteTime": {
     "end_time": "2021-05-26T17:49:45.237945Z",
     "start_time": "2021-05-26T17:49:42.087752Z"
    }
   },
   "outputs": [
    {
     "name": "stdout",
     "output_type": "stream",
     "text": [
      "Image Preprocessing...\n",
      "keras Model Loading\n",
      "WARNING:tensorflow:No training configuration found in the save file, so the model was *not* compiled. Compile it manually.\n",
      "Model Loading Complete\n"
     ]
    }
   ],
   "source": [
    "prediction_2 = predict_2(image)"
   ]
  },
  {
   "cell_type": "code",
   "execution_count": 52,
   "id": "5d40012b",
   "metadata": {
    "ExecuteTime": {
     "end_time": "2021-05-26T17:55:14.282067Z",
     "start_time": "2021-05-26T17:55:14.263069Z"
    }
   },
   "outputs": [],
   "source": [
    "from i_score import inter_score"
   ]
  },
  {
   "cell_type": "code",
   "execution_count": 53,
   "id": "833a68be",
   "metadata": {
    "ExecuteTime": {
     "end_time": "2021-05-26T17:55:16.676240Z",
     "start_time": "2021-05-26T17:55:16.670245Z"
    }
   },
   "outputs": [
    {
     "name": "stdout",
     "output_type": "stream",
     "text": [
      "0.0029674768447875977\n"
     ]
    }
   ],
   "source": [
    "score_2 = inter_score(prediction_2)"
   ]
  },
  {
   "cell_type": "code",
   "execution_count": 56,
   "id": "39506801",
   "metadata": {
    "ExecuteTime": {
     "end_time": "2021-05-26T17:57:23.482099Z",
     "start_time": "2021-05-26T17:57:23.469100Z"
    }
   },
   "outputs": [],
   "source": [
    "from f_score import final_score"
   ]
  },
  {
   "cell_type": "code",
   "execution_count": 57,
   "id": "90078aa7",
   "metadata": {
    "ExecuteTime": {
     "end_time": "2021-05-26T17:57:24.026408Z",
     "start_time": "2021-05-26T17:57:24.021438Z"
    }
   },
   "outputs": [],
   "source": [
    "Final_Score  = final_score(score_1,score_2)"
   ]
  },
  {
   "cell_type": "code",
   "execution_count": 59,
   "id": "9456f23b",
   "metadata": {
    "ExecuteTime": {
     "end_time": "2021-05-26T17:58:46.412857Z",
     "start_time": "2021-05-26T17:58:46.405862Z"
    }
   },
   "outputs": [
    {
     "name": "stdout",
     "output_type": "stream",
     "text": [
      "The final Predicted Score of Your Test is 0.5957840141788582%, on an average\n"
     ]
    }
   ],
   "source": [
    "print(\"The final Predicted Score of Your Test is {}%, on an average\".format(Final_Score))"
   ]
  },
  {
   "cell_type": "code",
   "execution_count": 60,
   "id": "b9de32f2",
   "metadata": {
    "ExecuteTime": {
     "end_time": "2021-05-26T18:04:52.706730Z",
     "start_time": "2021-05-26T18:04:52.687731Z"
    }
   },
   "outputs": [
    {
     "name": "stdout",
     "output_type": "stream",
     "text": [
      "Lots of Room for Improvements: \n",
      "    a.) Vector-Model\n",
      "    b.) Spectrogram-Model\n",
      "    c.) Varied Implementation for Audio Input / Better Algorithm \n"
     ]
    }
   ],
   "source": [
    "print(\"Lots of Room for Improvements: \")\n",
    "print(\"    a.) Vector-Model\")\n",
    "print(\"    b.) Spectrogram-Model\")\n",
    "print(\"    c.) Varied Implementation for Audio Input / Better Algorithm \")"
   ]
  },
  {
   "cell_type": "code",
   "execution_count": null,
   "id": "3d2c201c",
   "metadata": {},
   "outputs": [],
   "source": []
  }
 ],
 "metadata": {
  "kernelspec": {
   "display_name": "Python 3",
   "language": "python",
   "name": "python3"
  },
  "language_info": {
   "codemirror_mode": {
    "name": "ipython",
    "version": 3
   },
   "file_extension": ".py",
   "mimetype": "text/x-python",
   "name": "python",
   "nbconvert_exporter": "python",
   "pygments_lexer": "ipython3",
   "version": "3.7.0"
  }
 },
 "nbformat": 4,
 "nbformat_minor": 5
}
