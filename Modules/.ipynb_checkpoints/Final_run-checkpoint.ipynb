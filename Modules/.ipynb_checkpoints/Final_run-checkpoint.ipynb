{
 "cells": [
  {
   "cell_type": "markdown",
   "id": "1d314133",
   "metadata": {},
   "source": [
    "**Final Workflow**"
   ]
  },
  {
   "cell_type": "code",
   "execution_count": 8,
   "id": "58c01190",
   "metadata": {
    "ExecuteTime": {
     "end_time": "2021-05-26T15:14:51.891725Z",
     "start_time": "2021-05-26T15:14:51.882722Z"
    }
   },
   "outputs": [],
   "source": [
    "from generate import gpt2_generator"
   ]
  },
  {
   "cell_type": "code",
   "execution_count": 22,
   "id": "fc641274",
   "metadata": {
    "ExecuteTime": {
     "end_time": "2021-05-26T15:27:03.951822Z",
     "start_time": "2021-05-26T15:27:03.935827Z"
    }
   },
   "outputs": [],
   "source": [
    "from counter import countdown\n",
    "import time\n",
    "from record import read_out"
   ]
  },
  {
   "cell_type": "code",
   "execution_count": 2,
   "id": "a8b34f4a",
   "metadata": {
    "ExecuteTime": {
     "end_time": "2021-05-26T15:09:22.795421Z",
     "start_time": "2021-05-26T15:08:32.089952Z"
    }
   },
   "outputs": [
    {
     "name": "stderr",
     "output_type": "stream",
     "text": [
      "Setting `pad_token_id` to `eos_token_id`:50256 for open-end generation.\n"
     ]
    }
   ],
   "source": [
    "text_dict = gpt2_generator()"
   ]
  },
  {
   "cell_type": "code",
   "execution_count": 20,
   "id": "2d4ba9c0",
   "metadata": {
    "ExecuteTime": {
     "end_time": "2021-05-26T15:26:11.726412Z",
     "start_time": "2021-05-26T15:26:11.710446Z"
    }
   },
   "outputs": [
    {
     "name": "stdout",
     "output_type": "stream",
     "text": [
      "Read The Below Sentence after the timer goes off,ignore the complex/unwanted Characters(75 Seconds, For Now).\n",
      "                         \n"
     ]
    }
   ],
   "source": [
    "print(\"Read The Below Sentence after the timer goes off,ignore the complex/unwanted Characters(75 Seconds, For Now).\")\n",
    "print(\"                         \")"
   ]
  },
  {
   "cell_type": "code",
   "execution_count": 16,
   "id": "20db82e6",
   "metadata": {
    "ExecuteTime": {
     "end_time": "2021-05-26T15:20:10.497620Z",
     "start_time": "2021-05-26T15:20:00.401381Z"
    }
   },
   "outputs": [
    {
     "name": "stdout",
     "output_type": "stream",
     "text": [
      "Read it out!\n",
      "None\n"
     ]
    }
   ],
   "source": [
    "print(countdown(10))"
   ]
  },
  {
   "cell_type": "code",
   "execution_count": 17,
   "id": "103317a9",
   "metadata": {
    "ExecuteTime": {
     "end_time": "2021-05-26T15:24:50.572193Z",
     "start_time": "2021-05-26T15:24:50.560195Z"
    }
   },
   "outputs": [
    {
     "name": "stdout",
     "output_type": "stream",
     "text": [
      "Everybody makes a few companions at various phases of life. A few companionships last more while some end in only a couple of months. The fundamental explanation for it is the presence of love. Indeed, even we ought to have a sentiment of affection for the needy and poor. They deserve our love the most. We should that is why show our love and affection to everybody irrespective of any differences among each other. If I was to pick up the phone to my neighbor's office and ask her how she had learned that she was in trouble, she would say, \"I don't know, Mrs. Maclean. Are you well?\" We ought to show our friendship, and show our love for the most needy, poor, and useless persons. We should be very fond of the sick, as they deserve our love. And let us look at their circumstances at the same time. In spite of any differences between us, I find that we are almost as happy together as apart at their present juncture\n"
     ]
    }
   ],
   "source": [
    "print(text_dict['to_read'])"
   ]
  },
  {
   "cell_type": "code",
   "execution_count": 23,
   "id": "ff1d848a",
   "metadata": {
    "ExecuteTime": {
     "end_time": "2021-05-26T15:29:46.726231Z",
     "start_time": "2021-05-26T15:28:30.382540Z"
    }
   },
   "outputs": [
    {
     "name": "stdout",
     "output_type": "stream",
     "text": [
      "* recording\n",
      "* done recording\n"
     ]
    }
   ],
   "source": [
    "read_out() # changes to make - add reocord start stop button"
   ]
  },
  {
   "cell_type": "code",
   "execution_count": 33,
   "id": "c528da30",
   "metadata": {
    "ExecuteTime": {
     "end_time": "2021-05-26T15:36:08.999661Z",
     "start_time": "2021-05-26T15:36:08.996654Z"
    }
   },
   "outputs": [],
   "source": [
    "from data_prepare import to_text"
   ]
  },
  {
   "cell_type": "code",
   "execution_count": 34,
   "id": "15a72ba0",
   "metadata": {
    "ExecuteTime": {
     "end_time": "2021-05-26T15:36:09.327232Z",
     "start_time": "2021-05-26T15:36:09.294236Z"
    }
   },
   "outputs": [
    {
     "ename": "TypeError",
     "evalue": "to_text() takes 1 positional argument but 2 were given",
     "output_type": "error",
     "traceback": [
      "\u001b[1;31m---------------------------------------------------------------------------\u001b[0m",
      "\u001b[1;31mTypeError\u001b[0m                                 Traceback (most recent call last)",
      "\u001b[1;32m<ipython-input-34-ac3304072035>\u001b[0m in \u001b[0;36m<module>\u001b[1;34m\u001b[0m\n\u001b[1;32m----> 1\u001b[1;33m \u001b[0ms\u001b[0m \u001b[1;33m=\u001b[0m \u001b[0mto_text\u001b[0m\u001b[1;33m(\u001b[0m\u001b[1;34m\"output.wav\"\u001b[0m\u001b[1;33m,\u001b[0m\u001b[0mtext_dict\u001b[0m\u001b[1;33m)\u001b[0m\u001b[1;33m\u001b[0m\u001b[0m\n\u001b[0m",
      "\u001b[1;31mTypeError\u001b[0m: to_text() takes 1 positional argument but 2 were given"
     ]
    }
   ],
   "source": [
    "s = to_text(\"output.wav\",text_dict)"
   ]
  },
  {
   "cell_type": "code",
   "execution_count": null,
   "id": "ffa43043",
   "metadata": {},
   "outputs": [],
   "source": []
  }
 ],
 "metadata": {
  "kernelspec": {
   "display_name": "Python 3",
   "language": "python",
   "name": "python3"
  },
  "language_info": {
   "codemirror_mode": {
    "name": "ipython",
    "version": 3
   },
   "file_extension": ".py",
   "mimetype": "text/x-python",
   "name": "python",
   "nbconvert_exporter": "python",
   "pygments_lexer": "ipython3",
   "version": "3.7.0"
  }
 },
 "nbformat": 4,
 "nbformat_minor": 5
}
