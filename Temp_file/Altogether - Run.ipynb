{
 "cells": [
  {
   "cell_type": "markdown",
   "id": "a1a84747",
   "metadata": {},
   "source": [
    "**Generator Module**"
   ]
  },
  {
   "cell_type": "code",
   "execution_count": 1,
   "id": "de27d98b",
   "metadata": {
    "ExecuteTime": {
     "end_time": "2021-05-12T22:31:03.832095Z",
     "start_time": "2021-05-12T22:31:03.810134Z"
    }
   },
   "outputs": [],
   "source": [
    "def clean_to_pass(para):   #Module to get the read text from the user and convert it into sentence for comparison\n",
    "    import re\n",
    "    import string\n",
    "    import nltk\n",
    "    stopwords = nltk.corpus.stopwords.words('english')\n",
    "    para = \"\".join([i for i in para if i not in string.punctuation])\n",
    "    para = \"\".join([i.lower() for i in para if i not in string.punctuation])\n",
    "    para = para.replace('\\n',' ')\n",
    "    para = para.replace(\"%\",\" Percentage\")\n",
    "    return para"
   ]
  },
  {
   "cell_type": "code",
   "execution_count": 2,
   "id": "1b422990",
   "metadata": {
    "ExecuteTime": {
     "end_time": "2021-05-12T22:31:03.848113Z",
     "start_time": "2021-05-12T22:31:03.834095Z"
    }
   },
   "outputs": [],
   "source": [
    "def gpt2_generator():\n",
    "    import torch\n",
    "    from transformers import GPT2LMHeadModel, GPT2Tokenizer\n",
    "    #initialize tokenizer and model from pretrained GPT2 model\n",
    "    tokenizer = GPT2Tokenizer.from_pretrained('gpt2')\n",
    "\n",
    "    model = GPT2LMHeadModel.from_pretrained('gpt2')\n",
    "\n",
    "\n",
    "    list_of_sequences = [\n",
    "    'Out of office during the 1930s, Churchill took the lead in calling for British rearmament to counter the growing threat of militarism in Nazi Germany. At the outbreak of the Second World War he was re-appointed First Lord of the Admiralty. In May 1940, he became Prime Minister, replacing Neville Chamberlain. Churchill oversaw British involvement in the Allied war effort against the Axis powers, resulting in victory in 1945. After the Conservatives defeat in the 1945 general election, he became Leader of the Opposition',\n",
    "    'Artificial intelligence was founded as an academic discipline in 1955, and in the years since has experienced several waves of optimism,followed by disappointment and the loss of funding (known as an \"AI winter\"), followed by new approaches, success and renewed funding. After AlphaGo successfully defeated a professional Go player in 2015, artificial intelligence once again attracted widespread global attention',\n",
    "    'Technology has many effects. It has helped develop more advanced economies (including todays global economy) and has allowed the rise of a leisure class. Many technological processes produce unwanted by-products known as pollution and deplete natural resources to the detriment of Earths environment. Innovations have always influenced the values of a society and raised new questions in the ethics of technology. Examples include the rise of the notion of efficiency in terms of human productivity, and the challenges of bioethics',\n",
    "    'Nature has furnished us with numerous significant assets like water, air, food, therapeutic plants, fire, fuels, woods, and trees, and so forth. Every one of these assets helps us for different purposes. As a whole, we realize that our endurance will turn out to be difficult or end without them. As they serve us, they likewise need our adoration and service.',\n",
    "    'We should love every creation of God, regardless of whether a plant or a creature. We should treat them with affection, and attempt to secure them, however much as it is possible to do. Likewise, cherishing nature incorporates keeping the air and water clean, planting numerous trees, taking care of the variety of animals, treating harmed creatures or helpless humans, and so on. Our acts of love will include a touch of paradise the earth',\n",
    "    'Everybody makes a few companions at various phases of life. A few companionships last more while some end in only a couple of months. The fundamental explanation for it is the presence of love. Indeed, even we ought to have a sentiment of affection for the needy and poor. They deserve our love the most. We should that is why show our love and affection to everybody irrespective of any differences among each other'\n",
    "                    ]\n",
    "    import random\n",
    "    sequence = list_of_sequences[random.randint(0, 5)]\n",
    "    \n",
    "    inputs = tokenizer.encode(sequence, return_tensors='pt')\n",
    "\n",
    "    # we pass a maximum output length of 200 tokens\n",
    "    outputs = model.generate(inputs, max_length=200, do_sample=True)\n",
    "    text = tokenizer.decode(outputs[0], skip_special_tokens=True)\n",
    "    clean_text = clean_to_pass(text)\n",
    "\n",
    "    return {\n",
    "    'to_read':text,\n",
    "    'to_check':clean_text\n",
    "    }"
   ]
  },
  {
   "cell_type": "code",
   "execution_count": 3,
   "id": "1c9931df",
   "metadata": {
    "ExecuteTime": {
     "end_time": "2021-05-12T22:31:27.557395Z",
     "start_time": "2021-05-12T22:31:03.850094Z"
    }
   },
   "outputs": [
    {
     "name": "stderr",
     "output_type": "stream",
     "text": [
      "Setting `pad_token_id` to `eos_token_id`:50256 for open-end generation.\n"
     ]
    }
   ],
   "source": [
    "text_dict = gpt2_generator()"
   ]
  },
  {
   "cell_type": "code",
   "execution_count": 4,
   "id": "5f441295",
   "metadata": {
    "ExecuteTime": {
     "end_time": "2021-05-12T22:31:27.573368Z",
     "start_time": "2021-05-12T22:31:27.559325Z"
    }
   },
   "outputs": [
    {
     "name": "stdout",
     "output_type": "stream",
     "text": [
      "Read The Below Sentence after the timer goes off,ignore the complex/unwanted Characters\n"
     ]
    }
   ],
   "source": [
    "print(\"Read The Below Sentence after the timer goes off,ignore the complex/unwanted Characters\")"
   ]
  },
  {
   "cell_type": "code",
   "execution_count": 5,
   "id": "10cfde42",
   "metadata": {
    "ExecuteTime": {
     "end_time": "2021-05-12T22:31:27.589330Z",
     "start_time": "2021-05-12T22:31:27.575328Z"
    }
   },
   "outputs": [
    {
     "name": "stdout",
     "output_type": "stream",
     "text": [
      "                         \n"
     ]
    }
   ],
   "source": [
    "print(\"                         \")"
   ]
  },
  {
   "cell_type": "code",
   "execution_count": 6,
   "id": "68c8ce33",
   "metadata": {
    "ExecuteTime": {
     "end_time": "2021-05-12T22:31:27.605324Z",
     "start_time": "2021-05-12T22:31:27.591339Z"
    }
   },
   "outputs": [
    {
     "name": "stdout",
     "output_type": "stream",
     "text": [
      "Nature has furnished us with numerous significant assets like water, air, food, therapeutic plants, fire, fuels, woods, and trees, and so forth. Every one of these assets helps us for different purposes. As a whole, we realize that our endurance will turn out to be difficult or end without them. As they serve us, they likewise need our adoration and service. Some of these assets may be well appreciated. Some may be not. And while we may never fully appreciate and appreciate what is truly going to get us through our suffering, these have become vital aids of life, as they bring us to the heights we want for ourselves, our families, our happiness, and even for our children.\n",
      "\n",
      "But, like every other asset in life itself, this also holds true in the world of wealth. This is because wealth has become inextricably bound between God and His creatures that our lives are being produced through the grace of God. When we have grown tired of these things\n"
     ]
    }
   ],
   "source": [
    "print(text_dict['to_read'])"
   ]
  },
  {
   "cell_type": "markdown",
   "id": "71377558",
   "metadata": {},
   "source": [
    " "
   ]
  },
  {
   "cell_type": "markdown",
   "id": "1564625b",
   "metadata": {},
   "source": [
    " "
   ]
  },
  {
   "cell_type": "markdown",
   "id": "00aca1c5",
   "metadata": {},
   "source": [
    "**Recording Phase**"
   ]
  },
  {
   "cell_type": "code",
   "execution_count": 7,
   "id": "643c781c",
   "metadata": {
    "ExecuteTime": {
     "end_time": "2021-05-12T22:31:37.670703Z",
     "start_time": "2021-05-12T22:31:27.606324Z"
    }
   },
   "outputs": [
    {
     "name": "stdout",
     "output_type": "stream",
     "text": [
      "Read it out!\n"
     ]
    }
   ],
   "source": [
    "import time\n",
    "def countdown(t):\n",
    "    \n",
    "    while t:\n",
    "        mins, secs = divmod(t, 60)\n",
    "        timer = '{:02d}:{:02d}'.format(mins, secs)\n",
    "        print(timer, end=\"\\r\")\n",
    "        time.sleep(1)\n",
    "        t -= 1\n",
    "      \n",
    "    print('Read it out!')\n",
    "\n",
    "countdown(10)\n"
   ]
  },
  {
   "cell_type": "code",
   "execution_count": 8,
   "id": "11a19c61",
   "metadata": {
    "ExecuteTime": {
     "end_time": "2021-05-12T22:31:37.691488Z",
     "start_time": "2021-05-12T22:31:37.673621Z"
    }
   },
   "outputs": [],
   "source": [
    "def read_out():\n",
    "    import pyaudio\n",
    "    import wave\n",
    "\n",
    "    CHUNK = 1024\n",
    "    FORMAT = pyaudio.paInt16\n",
    "    CHANNELS = 2\n",
    "    RATE = 44100\n",
    "    RECORD_SECONDS = 10\n",
    "    WAVE_OUTPUT_FILENAME = \"output.wav\"\n",
    "\n",
    "    p = pyaudio.PyAudio()\n",
    "\n",
    "    stream = p.open(format=FORMAT,\n",
    "                    channels=CHANNELS,\n",
    "                    rate=RATE,\n",
    "                    input=True,\n",
    "                    frames_per_buffer=CHUNK)\n",
    "\n",
    "    print(\"* recording\")\n",
    "    frames = []\n",
    "\n",
    "    for i in range(0, int(RATE / CHUNK * RECORD_SECONDS)):\n",
    "        data = stream.read(CHUNK)\n",
    "        frames.append(data)\n",
    "    \n",
    "    print(\"* done recording\")\n",
    "\n",
    "    stream.stop_stream()\n",
    "    stream.close()\n",
    "    p.terminate()\n",
    "\n",
    "    wf = wave.open(WAVE_OUTPUT_FILENAME, 'wb')\n",
    "    wf.setnchannels(CHANNELS)\n",
    "    wf.setsampwidth(p.get_sample_size(FORMAT))\n",
    "    wf.setframerate(RATE)\n",
    "    wf.writeframes(b''.join(frames))\n",
    "    wf.close()"
   ]
  },
  {
   "cell_type": "code",
   "execution_count": 9,
   "id": "58c3631b",
   "metadata": {
    "ExecuteTime": {
     "end_time": "2021-05-12T22:31:48.037721Z",
     "start_time": "2021-05-12T22:31:37.695487Z"
    }
   },
   "outputs": [
    {
     "name": "stdout",
     "output_type": "stream",
     "text": [
      "* recording\n",
      "* done recording\n"
     ]
    }
   ],
   "source": [
    "read_out()"
   ]
  },
  {
   "cell_type": "markdown",
   "id": "2272227e",
   "metadata": {},
   "source": [
    " "
   ]
  },
  {
   "cell_type": "markdown",
   "id": "3492aada",
   "metadata": {},
   "source": [
    " "
   ]
  },
  {
   "cell_type": "markdown",
   "id": "9dfdb75f",
   "metadata": {},
   "source": [
    "**Convertion Module** \n",
    "- Text  ( intelligence score  1/ 0 )\n",
    "- Spectrogram"
   ]
  },
  {
   "cell_type": "markdown",
   "id": "2f02a609",
   "metadata": {},
   "source": [
    "1.) Text - Issue with API Module"
   ]
  },
  {
   "cell_type": "code",
   "execution_count": 10,
   "id": "78e592a9",
   "metadata": {
    "ExecuteTime": {
     "end_time": "2021-05-12T22:31:48.053685Z",
     "start_time": "2021-05-12T22:31:48.039686Z"
    }
   },
   "outputs": [],
   "source": [
    "import speech_recognition as sr\n",
    "r = sr.Recognizer()"
   ]
  },
  {
   "cell_type": "code",
   "execution_count": 18,
   "id": "b069de20",
   "metadata": {
    "ExecuteTime": {
     "end_time": "2021-05-12T22:32:18.415350Z",
     "start_time": "2021-05-12T22:32:18.401319Z"
    }
   },
   "outputs": [
    {
     "data": {
      "text/plain": [
       "['__class__',\n",
       " '__delattr__',\n",
       " '__dict__',\n",
       " '__dir__',\n",
       " '__doc__',\n",
       " '__enter__',\n",
       " '__eq__',\n",
       " '__exit__',\n",
       " '__format__',\n",
       " '__ge__',\n",
       " '__getattribute__',\n",
       " '__gt__',\n",
       " '__hash__',\n",
       " '__init__',\n",
       " '__init_subclass__',\n",
       " '__le__',\n",
       " '__lt__',\n",
       " '__module__',\n",
       " '__ne__',\n",
       " '__new__',\n",
       " '__reduce__',\n",
       " '__reduce_ex__',\n",
       " '__repr__',\n",
       " '__setattr__',\n",
       " '__sizeof__',\n",
       " '__str__',\n",
       " '__subclasshook__',\n",
       " '__weakref__',\n",
       " 'adjust_for_ambient_noise',\n",
       " 'dynamic_energy_adjustment_damping',\n",
       " 'dynamic_energy_ratio',\n",
       " 'dynamic_energy_threshold',\n",
       " 'energy_threshold',\n",
       " 'listen',\n",
       " 'listen_in_background',\n",
       " 'non_speaking_duration',\n",
       " 'operation_timeout',\n",
       " 'pause_threshold',\n",
       " 'phrase_threshold',\n",
       " 'recognize_api',\n",
       " 'recognize_bing',\n",
       " 'recognize_google',\n",
       " 'recognize_google_cloud',\n",
       " 'recognize_houndify',\n",
       " 'recognize_ibm',\n",
       " 'recognize_sphinx',\n",
       " 'recognize_wit',\n",
       " 'record',\n",
       " 'snowboy_wait_for_hot_word']"
      ]
     },
     "execution_count": 18,
     "metadata": {},
     "output_type": "execute_result"
    }
   ],
   "source": [
    "dir(r)"
   ]
  },
  {
   "cell_type": "code",
   "execution_count": 20,
   "id": "e6ace856",
   "metadata": {
    "ExecuteTime": {
     "end_time": "2021-05-12T22:32:48.036660Z",
     "start_time": "2021-05-12T22:32:47.339673Z"
    }
   },
   "outputs": [
    {
     "name": "stdout",
     "output_type": "stream",
     "text": [
      "Exception: \n",
      "Final Try? Read Again, Ensure a Calm Environment / API Error\n"
     ]
    }
   ],
   "source": [
    "hellow=sr.WavFile('output.wav')\n",
    "with hellow as source:\n",
    "    audio = r.record(source)\n",
    "\n",
    "    try:\n",
    "        s = r.recognize_google(audio).lower()\n",
    "        print(\"Text: \"+s)\n",
    "        intelligence_score = 1\n",
    "    except Exception as e:\n",
    "        print(\"Exception: \"+str(e))\n",
    "        intelligence_score = 0\n",
    "        print(\"Final Try? Read Again, Ensure a Calm Environment / API Error\")\n",
    "        s = text_dict['to_read'][:250]"
   ]
  },
  {
   "cell_type": "code",
   "execution_count": 12,
   "id": "ec8ea29a",
   "metadata": {
    "ExecuteTime": {
     "end_time": "2021-05-12T22:31:48.116718Z",
     "start_time": "2021-05-12T22:31:48.101684Z"
    }
   },
   "outputs": [
    {
     "data": {
      "text/plain": [
       "'Nature has furnished us with numerous significant assets like water, air, food, therapeutic plants, fire, fuels, woods, and trees, and so forth. Every one of these assets helps us for different purposes. As a whole, we realize that our endurance will'"
      ]
     },
     "execution_count": 12,
     "metadata": {},
     "output_type": "execute_result"
    }
   ],
   "source": [
    "s"
   ]
  },
  {
   "cell_type": "markdown",
   "id": "9219087e",
   "metadata": {},
   "source": [
    "2.) Spectrogram"
   ]
  },
  {
   "cell_type": "code",
   "execution_count": 13,
   "id": "1b7ed878",
   "metadata": {
    "ExecuteTime": {
     "end_time": "2021-05-12T22:31:48.841801Z",
     "start_time": "2021-05-12T22:31:48.118683Z"
    }
   },
   "outputs": [],
   "source": [
    "import pandas as pd\n",
    "import numpy as np\n",
    "import matplotlib.pyplot as plt\n",
    "%matplotlib inline\n",
    "from glob import glob\n",
    "from memory_profiler import memory_usage\n",
    "from matplotlib import figure\n",
    "import gc\n",
    "from pathlib import Path\n",
    "import librosa\n",
    "import librosa.display\n",
    "import pylab"
   ]
  },
  {
   "cell_type": "code",
   "execution_count": 14,
   "id": "09559e0f",
   "metadata": {
    "ExecuteTime": {
     "end_time": "2021-05-12T22:31:48.856574Z",
     "start_time": "2021-05-12T22:31:48.841801Z"
    }
   },
   "outputs": [],
   "source": [
    "#use the same function , by changing the directory for test set creating\n",
    "def create_spectrogram_images(filename,name):\n",
    "    count_ = 0\n",
    "    plt.interactive(False)\n",
    "    clip,sample_rate = librosa.load(filename,sr=None)\n",
    "    fig = plt.figure(figsize=[0.74,0.74])\n",
    "    \n",
    "    ax = fig.add_subplot(111)\n",
    "    ax.axes.get_xaxis().set_visible(False)\n",
    "    ax.axes.get_yaxis().set_visible(False)\n",
    "    ax.set_frame_on(False)\n",
    "    \n",
    "    s = librosa.feature.melspectrogram(y=clip,sr=sample_rate)\n",
    "    librosa.display.specshow(librosa.power_to_db(s,ref=np.max))\n",
    "    \n",
    "    filename =  name + '.jpg'\n",
    "    count_+=1\n",
    "    plt.savefig(filename,dpi=400,bbox_inches='tight',pad_inches=0)\n",
    "    plt.close()\n",
    "    fig.clf()\n",
    "    plt.close(fig)\n",
    "    plt.close('all')\n",
    "    del filename,name,clip,sample_rate,fig,ax,s\n",
    "    \n",
    "def outside_fn():\n",
    "    \n",
    "    file = \"output.wav\"\n",
    "    filename,name = file,file.split('/')[-1].split('.')[0]\n",
    "    name = str(\"output\")\n",
    "    create_spectrogram_images(filename,name)\n",
    "    \n",
    "    "
   ]
  },
  {
   "cell_type": "code",
   "execution_count": 15,
   "id": "42200b00",
   "metadata": {
    "ExecuteTime": {
     "end_time": "2021-05-12T22:31:49.046600Z",
     "start_time": "2021-05-12T22:31:48.857591Z"
    }
   },
   "outputs": [],
   "source": [
    "outside_fn()"
   ]
  },
  {
   "cell_type": "code",
   "execution_count": 17,
   "id": "93d93a34",
   "metadata": {
    "ExecuteTime": {
     "end_time": "2021-05-12T22:31:49.077955Z",
     "start_time": "2021-05-12T22:31:49.064600Z"
    }
   },
   "outputs": [],
   "source": [
    "#Outputs\n",
    "#text: s \n",
    "#image: output.jpg\n",
    "#intelligence score: 1 - Intelligent Audio / 0- Unintelligent Audio"
   ]
  },
  {
   "cell_type": "markdown",
   "id": "8aeef24c",
   "metadata": {},
   "source": [
    " "
   ]
  },
  {
   "cell_type": "markdown",
   "id": "6b9d73ec",
   "metadata": {},
   "source": [
    " "
   ]
  },
  {
   "cell_type": "markdown",
   "id": "e27cfa6f",
   "metadata": {},
   "source": [
    "**AI-Module Run**\n",
    "- Docu Similarity\n",
    "- Image -> Spectrogram Analysis"
   ]
  },
  {
   "cell_type": "code",
   "execution_count": null,
   "id": "09d5a160",
   "metadata": {},
   "outputs": [],
   "source": []
  },
  {
   "cell_type": "code",
   "execution_count": null,
   "id": "1925e868",
   "metadata": {},
   "outputs": [],
   "source": []
  },
  {
   "cell_type": "code",
   "execution_count": null,
   "id": "9c82f060",
   "metadata": {},
   "outputs": [],
   "source": []
  },
  {
   "cell_type": "code",
   "execution_count": null,
   "id": "cc15af53",
   "metadata": {},
   "outputs": [],
   "source": []
  },
  {
   "cell_type": "code",
   "execution_count": null,
   "id": "6baf55ed",
   "metadata": {},
   "outputs": [],
   "source": []
  },
  {
   "cell_type": "code",
   "execution_count": null,
   "id": "e0f0f3f4",
   "metadata": {},
   "outputs": [],
   "source": []
  },
  {
   "cell_type": "code",
   "execution_count": null,
   "id": "9aed1833",
   "metadata": {},
   "outputs": [],
   "source": []
  }
 ],
 "metadata": {
  "kernelspec": {
   "display_name": "Python 3",
   "language": "python",
   "name": "python3"
  },
  "language_info": {
   "codemirror_mode": {
    "name": "ipython",
    "version": 3
   },
   "file_extension": ".py",
   "mimetype": "text/x-python",
   "name": "python",
   "nbconvert_exporter": "python",
   "pygments_lexer": "ipython3",
   "version": "3.7.0"
  }
 },
 "nbformat": 4,
 "nbformat_minor": 5
}
