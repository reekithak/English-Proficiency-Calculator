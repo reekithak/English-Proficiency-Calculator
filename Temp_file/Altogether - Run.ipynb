{
 "cells": [
  {
   "cell_type": "markdown",
   "id": "961c22e5",
   "metadata": {},
   "source": [
    "**Generator Module**"
   ]
  },
  {
   "cell_type": "code",
   "execution_count": 1,
   "id": "abb80e6e",
   "metadata": {
    "ExecuteTime": {
     "end_time": "2021-05-12T20:51:52.976119Z",
     "start_time": "2021-05-12T20:51:52.958119Z"
    }
   },
   "outputs": [],
   "source": [
    "def clean_to_pass(para):   #Module to get the read text from the user and convert it into sentence for comparison\n",
    "    import re\n",
    "    import string\n",
    "    import nltk\n",
    "    stopwords = nltk.corpus.stopwords.words('english')\n",
    "    para = \"\".join([i for i in para if i not in string.punctuation])\n",
    "    para = \"\".join([i.lower() for i in para if i not in string.punctuation])\n",
    "    para = para.replace('\\n',' ')\n",
    "    para = para.replace(\"%\",\" Percentage\")\n",
    "    return para"
   ]
  },
  {
   "cell_type": "code",
   "execution_count": 21,
   "id": "b66f51ce",
   "metadata": {
    "ExecuteTime": {
     "end_time": "2021-05-12T21:19:09.538584Z",
     "start_time": "2021-05-12T21:19:09.530585Z"
    }
   },
   "outputs": [],
   "source": [
    "def gpt2_generator():\n",
    "    import torch\n",
    "    from transformers import GPT2LMHeadModel, GPT2Tokenizer\n",
    "    # initialize tokenizer and model from pretrained GPT2 model\n",
    "    tokenizer = GPT2Tokenizer.from_pretrained('gpt2')\n",
    "\n",
    "    model = GPT2LMHeadModel.from_pretrained('gpt2')\n",
    "\n",
    "\n",
    "    list_of_sequences = [\n",
    "    'Out of office during the 1930s, Churchill took the lead in calling for British rearmament to counter the growing threat of militarism in Nazi Germany. At the outbreak of the Second World War he was re-appointed First Lord of the Admiralty. In May 1940, he became Prime Minister, replacing Neville Chamberlain. Churchill oversaw British involvement in the Allied war effort against the Axis powers, resulting in victory in 1945. After the Conservatives defeat in the 1945 general election, he became Leader of the Opposition',\n",
    "    'Artificial intelligence was founded as an academic discipline in 1955, and in the years since has experienced several waves of optimism,followed by disappointment and the loss of funding (known as an \"AI winter\"), followed by new approaches, success and renewed funding. After AlphaGo successfully defeated a professional Go player in 2015, artificial intelligence once again attracted widespread global attention',\n",
    "    'Technology has many effects. It has helped develop more advanced economies (including todays global economy) and has allowed the rise of a leisure class. Many technological processes produce unwanted by-products known as pollution and deplete natural resources to the detriment of Earths environment. Innovations have always influenced the values of a society and raised new questions in the ethics of technology. Examples include the rise of the notion of efficiency in terms of human productivity, and the challenges of bioethics',\n",
    "    'Nature has furnished us with numerous significant assets like water, air, food, therapeutic plants, fire, fuels, woods, and trees, and so forth. Every one of these assets helps us for different purposes. As a whole, we realize that our endurance will turn out to be difficult or end without them. As they serve us, they likewise need our adoration and service.',\n",
    "    'We should love every creation of God, regardless of whether a plant or a creature. We should treat them with affection, and attempt to secure them, however much as it is possible to do. Likewise, cherishing nature incorporates keeping the air and water clean, planting numerous trees, taking care of the variety of animals, treating harmed creatures or helpless humans, and so on. Our acts of love will include a touch of paradise the earth',\n",
    "    'Everybody makes a few companions at various phases of life. A few companionships last more while some end in only a couple of months. The fundamental explanation for it is the presence of love. Indeed, even we ought to have a sentiment of affection for the needy and poor. They deserve our love the most. We should that is why show our love and affection to everybody irrespective of any differences among each other'\n",
    "                    ]\n",
    "    import random\n",
    "    sequence = list_of_sequences[random.randint(0, 5)]\n",
    "    \n",
    "    inputs = tokenizer.encode(sequence, return_tensors='pt')\n",
    "\n",
    "    # we pass a maximum output length of 200 tokens\n",
    "    outputs = model.generate(inputs, max_length=200, do_sample=True)\n",
    "    text = tokenizer.decode(outputs[0], skip_special_tokens=True)\n",
    "    clean_text = clean_to_pass(text)\n",
    "\n",
    "    return {\n",
    "    'to_read':text,\n",
    "    'to_check':clean_text\n",
    "    }"
   ]
  },
  {
   "cell_type": "code",
   "execution_count": 22,
   "id": "8ff6e848",
   "metadata": {
    "ExecuteTime": {
     "end_time": "2021-05-12T21:19:27.980570Z",
     "start_time": "2021-05-12T21:19:09.778078Z"
    }
   },
   "outputs": [
    {
     "name": "stderr",
     "output_type": "stream",
     "text": [
      "Setting `pad_token_id` to `eos_token_id`:50256 for open-end generation.\n"
     ]
    }
   ],
   "source": [
    "text_dict = gpt2_generator()"
   ]
  },
  {
   "cell_type": "code",
   "execution_count": 23,
   "id": "e1b08ad6",
   "metadata": {
    "ExecuteTime": {
     "end_time": "2021-05-12T21:19:27.995572Z",
     "start_time": "2021-05-12T21:19:27.982570Z"
    }
   },
   "outputs": [
    {
     "name": "stdout",
     "output_type": "stream",
     "text": [
      "Read The Below Sentence after the timer goes off,ignore the complex/unwanted Characters\n"
     ]
    }
   ],
   "source": [
    "print(\"Read The Below Sentence after the timer goes off,ignore the complex/unwanted Characters\")"
   ]
  },
  {
   "cell_type": "code",
   "execution_count": 24,
   "id": "6a860a7e",
   "metadata": {
    "ExecuteTime": {
     "end_time": "2021-05-12T21:19:28.026571Z",
     "start_time": "2021-05-12T21:19:27.998573Z"
    }
   },
   "outputs": [
    {
     "name": "stdout",
     "output_type": "stream",
     "text": [
      "                         \n"
     ]
    }
   ],
   "source": [
    "print(\"                         \")"
   ]
  },
  {
   "cell_type": "code",
   "execution_count": 25,
   "id": "631d45c0",
   "metadata": {
    "ExecuteTime": {
     "end_time": "2021-05-12T21:19:28.042571Z",
     "start_time": "2021-05-12T21:19:28.028572Z"
    }
   },
   "outputs": [
    {
     "name": "stdout",
     "output_type": "stream",
     "text": [
      "Everybody makes a few companions at various phases of life. A few companionships last more while some end in only a couple of months. The fundamental explanation for it is the presence of love. Indeed, even we ought to have a sentiment of affection for the needy and poor. They deserve our love the most. We should that is why show our love and affection to everybody irrespective of any differences among each other, even to their separate families or communities.\n",
      "\n",
      "In so doing we are promoting love. To encourage friendship and mutual acceptance is love. It is what I have shown in my book An Appreciation of Life that when the person in me becomes worthy of our affection I will gladly exchange and offer our friendship for an appropriate amount of money. Let me explain:\n",
      "\n",
      "\n",
      "One person has to be an important person and for such an important person each man is obliged to give the name and address of the other. The other person has to give all of this information, all of it, together with\n"
     ]
    }
   ],
   "source": [
    "print(text_dict['to_read'])"
   ]
  },
  {
   "cell_type": "code",
   "execution_count": 26,
   "id": "3624d0f3",
   "metadata": {
    "ExecuteTime": {
     "end_time": "2021-05-12T21:19:38.165232Z",
     "start_time": "2021-05-12T21:19:28.044573Z"
    }
   },
   "outputs": [
    {
     "name": "stdout",
     "output_type": "stream",
     "text": [
      "Read it out!\n"
     ]
    }
   ],
   "source": [
    "import time\n",
    "def countdown(t):\n",
    "    \n",
    "    while t:\n",
    "        mins, secs = divmod(t, 60)\n",
    "        timer = '{:02d}:{:02d}'.format(mins, secs)\n",
    "        print(timer, end=\"\\r\")\n",
    "        time.sleep(1)\n",
    "        t -= 1\n",
    "      \n",
    "    print('Read it out!')\n",
    "\n",
    "countdown(10)\n"
   ]
  },
  {
   "cell_type": "code",
   "execution_count": 27,
   "id": "3ceebbe8",
   "metadata": {
    "ExecuteTime": {
     "end_time": "2021-05-12T21:21:47.057141Z",
     "start_time": "2021-05-12T21:21:47.042141Z"
    }
   },
   "outputs": [],
   "source": [
    "def read_out():\n",
    "    import pyaudio\n",
    "    import wave\n",
    "\n",
    "    CHUNK = 1024\n",
    "    FORMAT = pyaudio.paInt16\n",
    "    CHANNELS = 2\n",
    "    RATE = 44100\n",
    "    RECORD_SECONDS = 75\n",
    "    WAVE_OUTPUT_FILENAME = \"output.wav\"\n",
    "\n",
    "    p = pyaudio.PyAudio()\n",
    "\n",
    "    stream = p.open(format=FORMAT,\n",
    "                    channels=CHANNELS,\n",
    "                    rate=RATE,\n",
    "                    input=True,\n",
    "                    frames_per_buffer=CHUNK)\n",
    "\n",
    "    print(\"* recording\")\n",
    "    frames = []\n",
    "\n",
    "    for i in range(0, int(RATE / CHUNK * RECORD_SECONDS)):\n",
    "        data = stream.read(CHUNK)\n",
    "        frames.append(data)\n",
    "\n",
    "    print(\"* done recording\")\n",
    "\n",
    "    stream.stop_stream()\n",
    "    stream.close()\n",
    "    p.terminate()\n",
    "\n",
    "    wf = wave.open(WAVE_OUTPUT_FILENAME, 'wb')\n",
    "    wf.setnchannels(CHANNELS)\n",
    "    wf.setsampwidth(p.get_sample_size(FORMAT))\n",
    "    wf.setframerate(RATE)\n",
    "    wf.writeframes(b''.join(frames))\n",
    "    wf.close()"
   ]
  },
  {
   "cell_type": "code",
   "execution_count": null,
   "id": "3083fab8",
   "metadata": {
    "ExecuteTime": {
     "start_time": "2021-05-12T21:22:00.695Z"
    }
   },
   "outputs": [
    {
     "name": "stdout",
     "output_type": "stream",
     "text": [
      "* recording\n"
     ]
    }
   ],
   "source": [
    "read_out()"
   ]
  },
  {
   "cell_type": "code",
   "execution_count": null,
   "id": "290c01f6",
   "metadata": {},
   "outputs": [],
   "source": []
  }
 ],
 "metadata": {
  "kernelspec": {
   "display_name": "Python 3",
   "language": "python",
   "name": "python3"
  },
  "language_info": {
   "codemirror_mode": {
    "name": "ipython",
    "version": 3
   },
   "file_extension": ".py",
   "mimetype": "text/x-python",
   "name": "python",
   "nbconvert_exporter": "python",
   "pygments_lexer": "ipython3",
   "version": "3.7.0"
  }
 },
 "nbformat": 4,
 "nbformat_minor": 5
}
