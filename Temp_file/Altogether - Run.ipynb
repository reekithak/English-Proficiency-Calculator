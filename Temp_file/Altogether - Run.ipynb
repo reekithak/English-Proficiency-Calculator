{
 "cells": [
  {
   "cell_type": "markdown",
   "id": "c9f09d21",
   "metadata": {},
   "source": [
    "**Generator Module**"
   ]
  },
  {
   "cell_type": "code",
   "execution_count": 1,
   "id": "ed285aa2",
   "metadata": {
    "ExecuteTime": {
     "end_time": "2021-05-12T20:51:52.976119Z",
     "start_time": "2021-05-12T20:51:52.958119Z"
    }
   },
   "outputs": [],
   "source": [
    "def clean_to_pass(para):   #Module to get the read text from the user and convert it into sentence for comparison\n",
    "    import re\n",
    "    import string\n",
    "    import nltk\n",
    "    stopwords = nltk.corpus.stopwords.words('english')\n",
    "    para = \"\".join([i for i in para if i not in string.punctuation])\n",
    "    para = \"\".join([i.lower() for i in para if i not in string.punctuation])\n",
    "    para = para.replace('\\n',' ')\n",
    "    para = para.replace(\"%\",\" Percentage\")\n",
    "    return para"
   ]
  },
  {
   "cell_type": "code",
   "execution_count": 21,
   "id": "d074fac7",
   "metadata": {
    "ExecuteTime": {
     "end_time": "2021-05-12T21:19:09.538584Z",
     "start_time": "2021-05-12T21:19:09.530585Z"
    }
   },
   "outputs": [],
   "source": [
    "def gpt2_generator():\n",
    "    import torch\n",
    "    from transformers import GPT2LMHeadModel, GPT2Tokenizer\n",
    "    # initialize tokenizer and model from pretrained GPT2 model\n",
    "    tokenizer = GPT2Tokenizer.from_pretrained('gpt2')\n",
    "\n",
    "    model = GPT2LMHeadModel.from_pretrained('gpt2')\n",
    "\n",
    "\n",
    "    list_of_sequences = [\n",
    "    'Out of office during the 1930s, Churchill took the lead in calling for British rearmament to counter the growing threat of militarism in Nazi Germany. At the outbreak of the Second World War he was re-appointed First Lord of the Admiralty. In May 1940, he became Prime Minister, replacing Neville Chamberlain. Churchill oversaw British involvement in the Allied war effort against the Axis powers, resulting in victory in 1945. After the Conservatives defeat in the 1945 general election, he became Leader of the Opposition',\n",
    "    'Artificial intelligence was founded as an academic discipline in 1955, and in the years since has experienced several waves of optimism,followed by disappointment and the loss of funding (known as an \"AI winter\"), followed by new approaches, success and renewed funding. After AlphaGo successfully defeated a professional Go player in 2015, artificial intelligence once again attracted widespread global attention',\n",
    "    'Technology has many effects. It has helped develop more advanced economies (including todays global economy) and has allowed the rise of a leisure class. Many technological processes produce unwanted by-products known as pollution and deplete natural resources to the detriment of Earths environment. Innovations have always influenced the values of a society and raised new questions in the ethics of technology. Examples include the rise of the notion of efficiency in terms of human productivity, and the challenges of bioethics',\n",
    "    'Nature has furnished us with numerous significant assets like water, air, food, therapeutic plants, fire, fuels, woods, and trees, and so forth. Every one of these assets helps us for different purposes. As a whole, we realize that our endurance will turn out to be difficult or end without them. As they serve us, they likewise need our adoration and service.',\n",
    "    'We should love every creation of God, regardless of whether a plant or a creature. We should treat them with affection, and attempt to secure them, however much as it is possible to do. Likewise, cherishing nature incorporates keeping the air and water clean, planting numerous trees, taking care of the variety of animals, treating harmed creatures or helpless humans, and so on. Our acts of love will include a touch of paradise the earth',\n",
    "    'Everybody makes a few companions at various phases of life. A few companionships last more while some end in only a couple of months. The fundamental explanation for it is the presence of love. Indeed, even we ought to have a sentiment of affection for the needy and poor. They deserve our love the most. We should that is why show our love and affection to everybody irrespective of any differences among each other'\n",
    "                    ]\n",
    "    import random\n",
    "    sequence = list_of_sequences[random.randint(0, 5)]\n",
    "    \n",
    "    inputs = tokenizer.encode(sequence, return_tensors='pt')\n",
    "\n",
    "    # we pass a maximum output length of 200 tokens\n",
    "    outputs = model.generate(inputs, max_length=200, do_sample=True)\n",
    "    text = tokenizer.decode(outputs[0], skip_special_tokens=True)\n",
    "    clean_text = clean_to_pass(text)\n",
    "\n",
    "    return {\n",
    "    'to_read':text,\n",
    "    'to_check':clean_text\n",
    "    }"
   ]
  },
  {
   "cell_type": "code",
   "execution_count": 44,
   "id": "c7b03760",
   "metadata": {
    "ExecuteTime": {
     "end_time": "2021-05-12T21:37:32.354799Z",
     "start_time": "2021-05-12T21:37:14.333397Z"
    }
   },
   "outputs": [
    {
     "name": "stderr",
     "output_type": "stream",
     "text": [
      "Setting `pad_token_id` to `eos_token_id`:50256 for open-end generation.\n"
     ]
    }
   ],
   "source": [
    "text_dict = gpt2_generator()"
   ]
  },
  {
   "cell_type": "code",
   "execution_count": 45,
   "id": "f5a377d9",
   "metadata": {
    "ExecuteTime": {
     "end_time": "2021-05-12T21:37:32.370819Z",
     "start_time": "2021-05-12T21:37:32.356801Z"
    }
   },
   "outputs": [
    {
     "name": "stdout",
     "output_type": "stream",
     "text": [
      "Read The Below Sentence after the timer goes off,ignore the complex/unwanted Characters\n"
     ]
    }
   ],
   "source": [
    "print(\"Read The Below Sentence after the timer goes off,ignore the complex/unwanted Characters\")"
   ]
  },
  {
   "cell_type": "code",
   "execution_count": 46,
   "id": "b8dd6ed3",
   "metadata": {
    "ExecuteTime": {
     "end_time": "2021-05-12T21:37:32.386802Z",
     "start_time": "2021-05-12T21:37:32.373803Z"
    }
   },
   "outputs": [
    {
     "name": "stdout",
     "output_type": "stream",
     "text": [
      "                         \n"
     ]
    }
   ],
   "source": [
    "print(\"                         \")"
   ]
  },
  {
   "cell_type": "code",
   "execution_count": 47,
   "id": "31f81d79",
   "metadata": {
    "ExecuteTime": {
     "end_time": "2021-05-12T21:37:32.402814Z",
     "start_time": "2021-05-12T21:37:32.392802Z"
    }
   },
   "outputs": [
    {
     "name": "stdout",
     "output_type": "stream",
     "text": [
      "Out of office during the 1930s, Churchill took the lead in calling for British rearmament to counter the growing threat of militarism in Nazi Germany. At the outbreak of the Second World War he was re-appointed First Lord of the Admiralty. In May 1940, he became Prime Minister, replacing Neville Chamberlain. Churchill oversaw British involvement in the Allied war effort against the Axis powers, resulting in victory in 1945. After the Conservatives defeat in the 1945 general election, he became Leader of the Opposition and the first British Prime Minister since Lord Rees in 1861. A strong opponent of the war in the Second World War, he was in office from 1930 to 1939 — the first prime minister, in history, to be removed from office.\n",
      "\n",
      "In his later years, Churchill supported the British expansionist program of the National Socialist Workers Movement in Germany from 1948 to 1945 for the country's defence against international Communism. The country joined the Allies in the League of Nations in 1946 while also strengthening its armed\n"
     ]
    }
   ],
   "source": [
    "print(text_dict['to_read'])"
   ]
  },
  {
   "cell_type": "markdown",
   "id": "1f152ab0",
   "metadata": {},
   "source": [
    " "
   ]
  },
  {
   "cell_type": "markdown",
   "id": "061bb90a",
   "metadata": {},
   "source": [
    " "
   ]
  },
  {
   "cell_type": "markdown",
   "id": "9866894a",
   "metadata": {},
   "source": [
    "**Recording Phase**"
   ]
  },
  {
   "cell_type": "code",
   "execution_count": 48,
   "id": "e741a639",
   "metadata": {
    "ExecuteTime": {
     "end_time": "2021-05-12T21:37:42.503358Z",
     "start_time": "2021-05-12T21:37:32.405802Z"
    }
   },
   "outputs": [
    {
     "name": "stdout",
     "output_type": "stream",
     "text": [
      "Read it out!\n"
     ]
    }
   ],
   "source": [
    "import time\n",
    "def countdown(t):\n",
    "    \n",
    "    while t:\n",
    "        mins, secs = divmod(t, 60)\n",
    "        timer = '{:02d}:{:02d}'.format(mins, secs)\n",
    "        print(timer, end=\"\\r\")\n",
    "        time.sleep(1)\n",
    "        t -= 1\n",
    "      \n",
    "    print('Read it out!')\n",
    "\n",
    "countdown(10)\n"
   ]
  },
  {
   "cell_type": "code",
   "execution_count": 59,
   "id": "7972ddd9",
   "metadata": {
    "ExecuteTime": {
     "end_time": "2021-05-12T21:47:04.457783Z",
     "start_time": "2021-05-12T21:47:04.451784Z"
    }
   },
   "outputs": [],
   "source": [
    "def read_out():\n",
    "    import pyaudio\n",
    "    import wave\n",
    "\n",
    "    CHUNK = 1024\n",
    "    FORMAT = pyaudio.paInt16\n",
    "    CHANNELS = 2\n",
    "    RATE = 44100\n",
    "    RECORD_SECONDS = 10\n",
    "    WAVE_OUTPUT_FILENAME = \"output.wav\"\n",
    "\n",
    "    p = pyaudio.PyAudio()\n",
    "\n",
    "    stream = p.open(format=FORMAT,\n",
    "                    channels=CHANNELS,\n",
    "                    rate=RATE,\n",
    "                    input=True,\n",
    "                    frames_per_buffer=CHUNK)\n",
    "\n",
    "    print(\"* recording\")\n",
    "    frames = []\n",
    "\n",
    "    for i in range(0, int(RATE / CHUNK * RECORD_SECONDS)):\n",
    "        data = stream.read(CHUNK)\n",
    "        frames.append(data)\n",
    "    \n",
    "    print(\"* done recording\")\n",
    "\n",
    "    stream.stop_stream()\n",
    "    stream.close()\n",
    "    p.terminate()\n",
    "\n",
    "    wf = wave.open(WAVE_OUTPUT_FILENAME, 'wb')\n",
    "    wf.setnchannels(CHANNELS)\n",
    "    wf.setsampwidth(p.get_sample_size(FORMAT))\n",
    "    wf.setframerate(RATE)\n",
    "    wf.writeframes(b''.join(frames))\n",
    "    wf.close()"
   ]
  },
  {
   "cell_type": "code",
   "execution_count": 64,
   "id": "8692d6ce",
   "metadata": {
    "ExecuteTime": {
     "end_time": "2021-05-12T21:48:28.612288Z",
     "start_time": "2021-05-12T21:48:18.179439Z"
    }
   },
   "outputs": [
    {
     "name": "stdout",
     "output_type": "stream",
     "text": [
      "* recording\n",
      "* done recording\n"
     ]
    }
   ],
   "source": [
    "read_out()"
   ]
  },
  {
   "cell_type": "markdown",
   "id": "ee7bd9ef",
   "metadata": {},
   "source": [
    " "
   ]
  },
  {
   "cell_type": "markdown",
   "id": "e6e6af74",
   "metadata": {},
   "source": [
    " "
   ]
  },
  {
   "cell_type": "markdown",
   "id": "ae09a5a2",
   "metadata": {},
   "source": [
    "**Convertion Module** \n",
    "- Text  ( intelligence score  1/ 0 )\n",
    "- Spectrogram"
   ]
  },
  {
   "cell_type": "markdown",
   "id": "171fee5e",
   "metadata": {},
   "source": [
    "1.) Text - Issue with API Module"
   ]
  },
  {
   "cell_type": "code",
   "execution_count": 81,
   "id": "5bea6a26",
   "metadata": {
    "ExecuteTime": {
     "end_time": "2021-05-12T22:00:39.149418Z",
     "start_time": "2021-05-12T22:00:39.128337Z"
    }
   },
   "outputs": [],
   "source": [
    "import speech_recognition as sr\n",
    "r = sr.Recognizer()"
   ]
  },
  {
   "cell_type": "code",
   "execution_count": 82,
   "id": "e16343ab",
   "metadata": {
    "ExecuteTime": {
     "end_time": "2021-05-12T22:00:41.750925Z",
     "start_time": "2021-05-12T22:00:39.376298Z"
    }
   },
   "outputs": [
    {
     "name": "stdout",
     "output_type": "stream",
     "text": [
      "Exception: Speech is unintelligible\n",
      "Final Try? Read Again, Ensure a Calm Environment / API Error\n"
     ]
    }
   ],
   "source": [
    "hellow=sr.WavFile('output.wav')\n",
    "with hellow as source:\n",
    "    audio = r.record(source)\n",
    "\n",
    "try:\n",
    "    s = r.recognize(audio).lower()\n",
    "    print(\"Text: \"+s)\n",
    "    intelligence_score = 1\n",
    "except Exception as e:\n",
    "    print(\"Exception: \"+str(e))\n",
    "    intelligence_score = 0\n",
    "    print(\"Final Try? Read Again, Ensure a Calm Environment / API Error\")\n",
    "    s = text_dict['to_read'][:250]"
   ]
  },
  {
   "cell_type": "code",
   "execution_count": 83,
   "id": "1af1e51f",
   "metadata": {
    "ExecuteTime": {
     "end_time": "2021-05-12T22:00:44.506242Z",
     "start_time": "2021-05-12T22:00:44.488248Z"
    }
   },
   "outputs": [
    {
     "data": {
      "text/plain": [
       "'Out of office during the 1930s, Churchill took the lead in calling for British rearmament to counter the growing threat of militarism in Nazi Germany. At the outbreak of the Second World War he was re-appointed First Lord of the Admiralty. In May 194'"
      ]
     },
     "execution_count": 83,
     "metadata": {},
     "output_type": "execute_result"
    }
   ],
   "source": [
    "s"
   ]
  },
  {
   "cell_type": "markdown",
   "id": "aac28e1c",
   "metadata": {},
   "source": [
    "2.) Spectrogram"
   ]
  },
  {
   "cell_type": "code",
   "execution_count": 108,
   "id": "4f3c0fdd",
   "metadata": {
    "ExecuteTime": {
     "end_time": "2021-05-12T22:12:35.263691Z",
     "start_time": "2021-05-12T22:12:31.247090Z"
    }
   },
   "outputs": [],
   "source": [
    "import pandas as pd\n",
    "import numpy as np\n",
    "import matplotlib.pyplot as plt\n",
    "%matplotlib inline\n",
    "from glob import glob\n",
    "from memory_profiler import memory_usage\n",
    "from matplotlib import figure\n",
    "import gc\n",
    "from pathlib import Path\n",
    "import librosa\n",
    "import librosa.display\n",
    "import pylab"
   ]
  },
  {
   "cell_type": "code",
   "execution_count": 109,
   "id": "22d39216",
   "metadata": {
    "ExecuteTime": {
     "end_time": "2021-05-12T22:12:38.572833Z",
     "start_time": "2021-05-12T22:12:38.565827Z"
    }
   },
   "outputs": [],
   "source": [
    "#use the same function , by changing the directory for test set creating\n",
    "def create_spectrogram_images(filename,name):\n",
    "    count_ = 0\n",
    "    plt.interactive(False)\n",
    "    clip,sample_rate = librosa.load(filename,sr=None)\n",
    "    fig = plt.figure(figsize=[0.74,0.74])\n",
    "    \n",
    "    ax = fig.add_subplot(111)\n",
    "    ax.axes.get_xaxis().set_visible(False)\n",
    "    ax.axes.get_yaxis().set_visible(False)\n",
    "    ax.set_frame_on(False)\n",
    "    \n",
    "    s = librosa.feature.melspectrogram(y=clip,sr=sample_rate)\n",
    "    librosa.display.specshow(librosa.power_to_db(s,ref=np.max))\n",
    "    \n",
    "    filename =  name + '.jpg'\n",
    "    count_+=1\n",
    "    plt.savefig(filename,dpi=400,bbox_inches='tight',pad_inches=0)\n",
    "    plt.close()\n",
    "    fig.clf()\n",
    "    plt.close(fig)\n",
    "    plt.close('all')\n",
    "    del filename,name,clip,sample_rate,fig,ax,s\n",
    "    \n",
    "def outside_fn():\n",
    "    \n",
    "    file = \"output.wav\"\n",
    "    print(file)\n",
    "    filename,name = file,file.split('/')[-1].split('.')[0]\n",
    "    print(filename)\n",
    "    name = str(\"output\")\n",
    "    print(name)\n",
    "    create_spectrogram_images(filename,name)\n",
    "    \n",
    "    "
   ]
  },
  {
   "cell_type": "code",
   "execution_count": 110,
   "id": "67e01e71",
   "metadata": {
    "ExecuteTime": {
     "end_time": "2021-05-12T22:12:39.563913Z",
     "start_time": "2021-05-12T22:12:39.302526Z"
    }
   },
   "outputs": [
    {
     "name": "stdout",
     "output_type": "stream",
     "text": [
      "output.wav\n",
      "output.wav\n",
      "output\n"
     ]
    }
   ],
   "source": [
    "outside_fn()"
   ]
  },
  {
   "cell_type": "code",
   "execution_count": 112,
   "id": "cccbbfa5",
   "metadata": {
    "ExecuteTime": {
     "end_time": "2021-05-12T22:14:11.395348Z",
     "start_time": "2021-05-12T22:14:11.381330Z"
    }
   },
   "outputs": [],
   "source": [
    "# Outputs:\n",
    "# text: s \n",
    "# image: output.jpg"
   ]
  },
  {
   "cell_type": "code",
   "execution_count": null,
   "id": "d501297e",
   "metadata": {},
   "outputs": [],
   "source": []
  },
  {
   "cell_type": "code",
   "execution_count": null,
   "id": "4ce6373b",
   "metadata": {},
   "outputs": [],
   "source": []
  },
  {
   "cell_type": "code",
   "execution_count": null,
   "id": "fc52b7a5",
   "metadata": {},
   "outputs": [],
   "source": []
  },
  {
   "cell_type": "code",
   "execution_count": null,
   "id": "f904e9de",
   "metadata": {},
   "outputs": [],
   "source": []
  }
 ],
 "metadata": {
  "kernelspec": {
   "display_name": "Python 3",
   "language": "python",
   "name": "python3"
  },
  "language_info": {
   "codemirror_mode": {
    "name": "ipython",
    "version": 3
   },
   "file_extension": ".py",
   "mimetype": "text/x-python",
   "name": "python",
   "nbconvert_exporter": "python",
   "pygments_lexer": "ipython3",
   "version": "3.7.0"
  }
 },
 "nbformat": 4,
 "nbformat_minor": 5
}
